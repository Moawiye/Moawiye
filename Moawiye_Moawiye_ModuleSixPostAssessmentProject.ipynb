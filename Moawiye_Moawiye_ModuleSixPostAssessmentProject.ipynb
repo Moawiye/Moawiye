{
  "nbformat": 4,
  "nbformat_minor": 0,
  "metadata": {
    "anaconda-cloud": {},
    "kernelspec": {
      "display_name": "Python 3",
      "language": "python",
      "name": "python3"
    },
    "language_info": {
      "codemirror_mode": {
        "name": "ipython",
        "version": 3
      },
      "file_extension": ".py",
      "mimetype": "text/x-python",
      "name": "python",
      "nbconvert_exporter": "python",
      "pygments_lexer": "ipython3",
      "version": "3.5.1"
    },
    "colab": {
      "provenance": [],
      "include_colab_link": true
    }
  },
  "cells": [
    {
      "cell_type": "markdown",
      "metadata": {
        "id": "view-in-github",
        "colab_type": "text"
      },
      "source": [
        "<a href=\"https://colab.research.google.com/github/Moawiye/Moawiye/blob/main/Moawiye_Moawiye_ModuleSixPostAssessmentProject.ipynb\" target=\"_parent\"><img src=\"https://colab.research.google.com/assets/colab-badge.svg\" alt=\"Open In Colab\"/></a>"
      ]
    },
    {
      "cell_type": "code",
      "metadata": {
        "id": "vce3r4VhYii7"
      },
      "source": [
        "# Moawiye Moawiye\n",
        "# 11/18/2021\n",
        "# I Applies all the concepts that I have learned this whole module. I was alot. \n",
        "# This was a big module so I had some things that were hard to take in as you can see that i am super late in turning this in. "
      ],
      "execution_count": null,
      "outputs": []
    },
    {
      "cell_type": "markdown",
      "metadata": {
        "id": "Gs7xeyJyeShw"
      },
      "source": [
        "# Module Six Post Assessment\n",
        "## Sequence Manipulation Practice\n",
        "\n",
        "-----\n",
        "\n",
        "### Student will be able to\n",
        "- Create lists\n",
        "- Access items in a list\n",
        "- Add items to the end of a list\n",
        "- Insert items into a list\n",
        "- Delete items from a list"
      ]
    },
    {
      "cell_type": "markdown",
      "metadata": {
        "id": "PCjIciJKeSh1"
      },
      "source": [
        "## Create Lists"
      ]
    },
    {
      "cell_type": "code",
      "metadata": {
        "id": "MdWb2bsTeSh1",
        "colab": {
          "base_uri": "https://localhost:8080/"
        },
        "outputId": "5a2b3397-7804-4e9f-f143-7459271df0b5"
      },
      "source": [
        "# [ ] create and populate list called days_of_week then print it\n",
        "days_of_week = [\"Monday\",\"Tuesday\",\"Wednesday\",\"Thursday\",\"Friday\",\"Saturday\",\"Sunday\"]\n",
        "print(days_of_week)\n"
      ],
      "execution_count": null,
      "outputs": [
        {
          "output_type": "stream",
          "name": "stdout",
          "text": [
            "['Monday', 'Tuesday', 'Wednesday', 'Thursday', 'Friday', 'Saturday', 'Sunday']\n"
          ]
        }
      ]
    },
    {
      "cell_type": "code",
      "metadata": {
        "id": "woAnKMtReSh2",
        "colab": {
          "base_uri": "https://localhost:8080/"
        },
        "outputId": "0db2c664-95c3-4884-ca1c-5ecf64f99aaa"
      },
      "source": [
        "# [ ] after days_of_week is run above, print the days in the list at odd indexes 1,3,5\n",
        "for day in days_of_week[1::2]:\n",
        "    print(day)\n"
      ],
      "execution_count": null,
      "outputs": [
        {
          "output_type": "stream",
          "name": "stdout",
          "text": [
            "Tuesday\n",
            "Thursday\n",
            "Saturday\n"
          ]
        }
      ]
    },
    {
      "cell_type": "markdown",
      "metadata": {
        "id": "LO-e-4kseSh2"
      },
      "source": [
        "## Phone Letters\n",
        "![phone keys: number and letters](https://iajupyterprodblobs.blob.core.windows.net/imagecontainer/phone_letters.JPG)\n",
        "Create a list, **`phone_letters`**, where the index 0 - 9 contains the letters for keys 0 - 9.  \n",
        "\n",
        "- 0 = ' ' (a space)\n",
        "- 1 = '' (empty)\n",
        "- 2 = 'ABC'\n",
        "- 3 = 'DEF'\n",
        "- etc...\n"
      ]
    },
    {
      "cell_type": "code",
      "metadata": {
        "id": "sJBGnORGeSh2",
        "colab": {
          "base_uri": "https://localhost:8080/"
        },
        "outputId": "3c85f70c-3189-49ee-f5c2-561cc3cf2517"
      },
      "source": [
        "# [ ] create and populate list called phone_letters then print it\n",
        "phone_letters = [\" \",\"\",\"ABC\",\"DEF\",\"GHI\",\"JKL\",\"MNO\",\"PQRS\",\"TUV\",\"WXYZ\"]\n",
        "\n",
        "print(phone_letters)\n"
      ],
      "execution_count": null,
      "outputs": [
        {
          "output_type": "stream",
          "name": "stdout",
          "text": [
            "[' ', '', 'ABC', 'DEF', 'GHI', 'JKL', 'MNO', 'PQRS', 'TUV', 'WXYZ']\n"
          ]
        }
      ]
    },
    {
      "cell_type": "markdown",
      "metadata": {
        "collapsed": true,
        "id": "PtcpF48peSh3"
      },
      "source": [
        "## Access Lists\n",
        "### for the 2 cells below\n",
        "- Use days_of_week list created above\n",
        "- Run the cell above to make the list available"
      ]
    },
    {
      "cell_type": "code",
      "metadata": {
        "id": "WXQArDbMeSh3",
        "colab": {
          "base_uri": "https://localhost:8080/"
        },
        "outputId": "3f12c538-eeeb-4be7-e999-2913e74ae0b6"
      },
      "source": [
        "# [ ] create a variable: day, assign day to \"Tuesday\" using days_of_week[]\n",
        "# [ ] print day variable\n",
        "day = days_of_week[1]\n",
        "print(day)\n",
        "\n",
        "\n"
      ],
      "execution_count": null,
      "outputs": [
        {
          "output_type": "stream",
          "name": "stdout",
          "text": [
            "Tuesday\n"
          ]
        }
      ]
    },
    {
      "cell_type": "code",
      "metadata": {
        "id": "epufi-HHeSh3",
        "colab": {
          "base_uri": "https://localhost:8080/"
        },
        "outputId": "f2a2c767-3367-48d8-e814-829d5d5ed217"
      },
      "source": [
        "# PART 2\n",
        "# [ ] assign day to days_of_week index = 5\n",
        "# [ ] print day\n",
        "day = days_of_week[5]\n",
        "print(day)\n",
        "\n"
      ],
      "execution_count": null,
      "outputs": [
        {
          "output_type": "stream",
          "name": "stdout",
          "text": [
            "Saturday\n"
          ]
        }
      ]
    },
    {
      "cell_type": "markdown",
      "metadata": {
        "id": "UvO4eKoXeSh3"
      },
      "source": [
        "## Append and Insert Items into a List\n",
        "\n",
        "### Endsday, Midsday, Resterday\n",
        "#### for the exercises below\n",
        "- Use days_of_week list created above\n",
        "- Run the cell defining days_of_week above to make the list available"
      ]
    },
    {
      "cell_type": "code",
      "metadata": {
        "id": "S33GIdZfeSh4",
        "colab": {
          "base_uri": "https://localhost:8080/"
        },
        "outputId": "564ca088-de94-4ce7-fa8c-9654fc289007"
      },
      "source": [
        "# [ ] Make up a new day! - append an 8th day of the week to days_of_week \n",
        "# [ ] print days_of_week\n",
        "days_of_week.append(\"Superday\")\n",
        "print(days_of_week)\n",
        "\n"
      ],
      "execution_count": null,
      "outputs": [
        {
          "output_type": "stream",
          "name": "stdout",
          "text": [
            "['Monday', 'Tuesday', 'Wednesday', 'Thursday', 'Friday', 'Saturday', 'Sunday', 'Superday']\n"
          ]
        }
      ]
    },
    {
      "cell_type": "markdown",
      "metadata": {
        "id": "NWtwxpSjeSh4"
      },
      "source": [
        "### Question  \n",
        "- What happens if you keep running the cell above?  \n",
        "- How can you return to the initial state with the regular 7 days in days_of_week? "
      ]
    },
    {
      "cell_type": "code",
      "metadata": {
        "id": "2jeVz79-eSh4",
        "colab": {
          "base_uri": "https://localhost:8080/"
        },
        "outputId": "0dc588ad-e22c-46de-df71-08a555fc14b8"
      },
      "source": [
        "# [ ] Make up another new day - insert a new day into the middle of days_of_week between Wed - Thurs\n",
        "# [ ] print days_of_week\n",
        "days_of_week.insert(3,\"Moawiyeday\")\n",
        "print(days_of_week)\n",
        "\n"
      ],
      "execution_count": null,
      "outputs": [
        {
          "output_type": "stream",
          "name": "stdout",
          "text": [
            "['Monday', 'Tuesday', 'Wednesday', 'Moawiyeday', 'Thursday', 'Friday', 'Saturday', 'Sunday', 'Superday']\n"
          ]
        }
      ]
    },
    {
      "cell_type": "code",
      "metadata": {
        "id": "57LmvS_zeSh4",
        "colab": {
          "base_uri": "https://localhost:8080/"
        },
        "outputId": "7113ca8e-9805-4536-84d5-2ca9c9a6d8e1"
      },
      "source": [
        "# [ ]  Extend the weekend - insert a day between Fri & Sat in the days_of_week list\n",
        "# [ ] print days_of_week\n",
        "days_of_week.insert(6,\"Learningday\")\n",
        "print(days_of_week)\n",
        "\n"
      ],
      "execution_count": null,
      "outputs": [
        {
          "output_type": "stream",
          "name": "stdout",
          "text": [
            "['Monday', 'Tuesday', 'Wednesday', 'Moawiyeday', 'Thursday', 'Friday', 'Learningday', 'Saturday', 'Sunday', 'Superday']\n"
          ]
        }
      ]
    },
    {
      "cell_type": "markdown",
      "metadata": {
        "id": "lgEvXeqHeSh4"
      },
      "source": [
        "## Delete Items from a List\n",
        "### `del` & `.pop()` some bad ideas\n",
        "#### Exercises below assume days_of_week appended/inserted 3 extra days in previous exercises"
      ]
    },
    {
      "cell_type": "code",
      "metadata": {
        "id": "Wc8BDkubeSh5",
        "colab": {
          "base_uri": "https://localhost:8080/"
        },
        "outputId": "c8c023d4-cbc6-4969-d6b9-b663d3c11e49"
      },
      "source": [
        "# [ ] print days_of_week \n",
        "# [ ] modified week is too long - pop() the last index of days_of_week & print .pop() value\n",
        "# [ ] print days_of_week\n",
        "print(days_of_week)\n",
        "\n",
        "days_of_week.pop(-1)\n",
        "print(days_of_week)\n",
        "\n"
      ],
      "execution_count": null,
      "outputs": [
        {
          "output_type": "stream",
          "name": "stdout",
          "text": [
            "['Monday', 'Tuesday', 'Wednesday', 'Moawiyeday', 'Thursday', 'Friday', 'Learningday', 'Saturday', 'Sunday', 'Superday']\n",
            "['Monday', 'Tuesday', 'Wednesday', 'Moawiyeday', 'Thursday', 'Friday', 'Learningday', 'Saturday', 'Sunday']\n"
          ]
        }
      ]
    },
    {
      "cell_type": "code",
      "metadata": {
        "id": "SypPSpzleSh5",
        "colab": {
          "base_uri": "https://localhost:8080/"
        },
        "outputId": "de3dd001-e527-4778-fce1-9f7eaf1ee5c1"
      },
      "source": [
        "# [ ] print days_of_week \n",
        "# [ ] delete (del) the new day added to the middle of the week \n",
        "# [ ] print days_of_week\n",
        "print(days_of_week)\n",
        "del days_of_week[4]\n",
        "\n",
        "print(days_of_week)\n",
        "\n"
      ],
      "execution_count": null,
      "outputs": [
        {
          "output_type": "stream",
          "name": "stdout",
          "text": [
            "['Monday', 'Tuesday', 'Wednesday', 'Moawiyeday', 'Thursday', 'Friday', 'Learningday', 'Saturday', 'Sunday']\n",
            "['Monday', 'Tuesday', 'Wednesday', 'Moawiyeday', 'Friday', 'Learningday', 'Saturday', 'Sunday']\n"
          ]
        }
      ]
    },
    {
      "cell_type": "code",
      "metadata": {
        "id": "oUxjST5heSh5",
        "colab": {
          "base_uri": "https://localhost:8080/"
        },
        "outputId": "9a16671e-25ee-4bbd-89a2-394b535e9338"
      },
      "source": [
        "# [ ] print days_of_week \n",
        "# [ ] programmers choice - pop() any day in days_of week & print .pop() value\n",
        "# [ ] print days_of_week\n",
        "print(days_of_week)\n",
        "\n",
        "days_of_week.pop()\n",
        "print(days_of_week)\n"
      ],
      "execution_count": null,
      "outputs": [
        {
          "output_type": "stream",
          "name": "stdout",
          "text": [
            "['Monday', 'Tuesday', 'Wednesday', 'Moawiyeday', 'Friday', 'Learningday', 'Saturday', 'Sunday']\n",
            "['Monday', 'Tuesday', 'Wednesday', 'Moawiyeday', 'Friday', 'Learningday', 'Saturday']\n"
          ]
        }
      ]
    },
    {
      "cell_type": "markdown",
      "metadata": {
        "id": "ivNVzs_veSh5"
      },
      "source": [
        "## Program:  Letter to Number Function\n",
        "### For the exercise below\n",
        "- Use phone_letters list created above\n",
        "- Run the cell above to make the list available \n",
        "\n",
        "#### Recall unit 1 using **`in`** to search for a string in a string\n",
        "```python\n",
        "if \"e\" in \"open\":\n",
        "    print(\"e found\")\n",
        "else:\n",
        "   print(\"e not found\")\n",
        "```\n",
        "\n",
        "![phone keys: number and letters](https://iajupyterprodblobs.blob.core.windows.net/imagecontainer/phone_letters.JPG)\n",
        "\n",
        "### Create funtion let_to_num()\n",
        "- let_to_num() takes input of a single letter, space or empty string stored in an argument variable: letter\n",
        "  - use `while key < 10:` to try numbers 0 - 9 as index for `phone_letters` (\"key\" = phone dial pad key)\n",
        "  - check if `letter` variable is in the index of `phone_letters[key]` \n",
        "```python\n",
        "key = 0\n",
        "while key < 10:\n",
        "    if # Create Code: determine if letter is **`in`** any of the phone_letters[key] where key is the index 0 -9:\n",
        "        return key\n",
        "    else:\n",
        "        key = key + 1\n",
        "return \"Not Found\"\n",
        "```\n",
        "- return the number or \"Not Found\"\n",
        "- **call** let_to_num() to test the function so it prints the argument and return value with:\n",
        "  - space\n",
        "  - lowercase letter\n",
        "  - different letter, uppercase\n",
        "  - a number\n",
        "  \n",
        "**Bonus**: create a special case to check if empty string (`\"\"`) was submitted   \n",
        "the problem is that an empty string will be found in all strings as  \n",
        "```python\n",
        "if \"\" in \"ABC\": \n",
        "```  \n",
        "is True, and is true for any phone_letters, but should `return 1`"
      ]
    },
    {
      "cell_type": "code",
      "metadata": {
        "id": "pZ0A9LDWeSh5",
        "colab": {
          "base_uri": "https://localhost:8080/"
        },
        "outputId": "3ec8867c-2920-432f-a988-a0cabb5c7cf1"
      },
      "source": [
        "# [ ] create let_to_num()\n",
        "def let_to_num(letter):\n",
        "    key = 0\n",
        "    while key < 10:\n",
        "        if letter in phone_letters[key]:\n",
        "            return key\n",
        "        else:\n",
        "            key = key + 1\n",
        "    return \"Not Found\"\n",
        "\n",
        "answer = let_to_num(\"5\")\n",
        "print(\"The key is:\",answer)\n"
      ],
      "execution_count": null,
      "outputs": [
        {
          "output_type": "stream",
          "name": "stdout",
          "text": [
            "The key is: Not Found\n"
          ]
        }
      ]
    },
    {
      "cell_type": "code",
      "metadata": {
        "id": "vGuD9H-jeSh6"
      },
      "source": [],
      "execution_count": null,
      "outputs": []
    },
    {
      "cell_type": "markdown",
      "metadata": {
        "id": "Zwx6atBueSh6"
      },
      "source": [
        "## Challenge: Reverse a string \n",
        "### Using \n",
        "- while\n",
        "- .pop()\n",
        "- insert()  \n",
        "\n",
        "**`pop()`** the **first item** in the list and add to the beginning of a new string."
      ]
    },
    {
      "cell_type": "code",
      "metadata": {
        "id": "ywmmw_PneSh6",
        "collapsed": true,
        "colab": {
          "base_uri": "https://localhost:8080/"
        },
        "outputId": "8c9c1adf-8fed-4022-97fc-68b35c2ee2b7"
      },
      "source": [
        "# [ ] Challenge: write the code for \"reverse a string\"\n",
        "string = [\"Happy\", \"Sad\", \"Excited\", \"Mad\"]\n",
        "rev_str = []\n",
        "print(\"List:\", string)\n",
        "\n",
        "while string:\n",
        "  rev = string.pop(0)\n",
        "  rev_str.insert(0,rev)\n",
        "\n",
        "print(\"Reversed string:\", \", \".join(rev_str))\n",
        "    \n"
      ],
      "execution_count": null,
      "outputs": [
        {
          "output_type": "stream",
          "name": "stdout",
          "text": [
            "List: ['Happy', 'Sad', 'Excited', 'Mad']\n",
            "Reversed string: Mad, Excited, Sad, Happy\n"
          ]
        }
      ]
    },
    {
      "cell_type": "code",
      "metadata": {
        "id": "HKlWi5HXeSh6"
      },
      "source": [],
      "execution_count": null,
      "outputs": []
    },
    {
      "cell_type": "markdown",
      "metadata": {
        "collapsed": false,
        "id": "0Bt8yXHPeSh6"
      },
      "source": [
        "[Terms of use](http://go.microsoft.com/fwlink/?LinkID=206977) &nbsp; [Privacy & cookies](https://go.microsoft.com/fwlink/?LinkId=521839) &nbsp; © 2017 Microsoft"
      ]
    }
  ]
}